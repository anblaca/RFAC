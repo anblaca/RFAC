{
  "cells": [
    {
      "cell_type": "code",
      "execution_count": null,
      "metadata": {
        "id": "Cul-LMkIN6y4"
      },
      "outputs": [],
      "source": [
        "import keras\n",
        "from keras.datasets import mnist\n",
        "from keras.models import Sequential\n",
        "from keras.layers import Dense, Activation, Reshape\n",
        "from keras.optimizers import SGD\n",
        "from keras.optimizers import Adam\n",
        "from keras.layers import BatchNormalization as BN\n",
        "from keras.layers import GaussianNoise as GN\n",
        "from keras.callbacks import LearningRateScheduler as LRS\n",
        "from keras.preprocessing.image import ImageDataGenerator\n"
      ]
    },
    {
      "cell_type": "code",
      "execution_count": null,
      "metadata": {
        "id": "hAO7azh1PBMh"
      },
      "outputs": [],
      "source": [
        "batch_size = 64 #coge 128 muestas\n",
        "num_classes = 10\n",
        "epochs = 200 #numero de iteraciones"
      ]
    },
    {
      "cell_type": "code",
      "execution_count": null,
      "metadata": {
        "id": "sMoBlCxcPIIr",
        "colab": {
          "base_uri": "https://localhost:8080/"
        },
        "outputId": "b3ce09a5-ea66-413c-d9d6-875a44c759b9"
      },
      "outputs": [
        {
          "output_type": "stream",
          "name": "stdout",
          "text": [
            "Downloading data from https://storage.googleapis.com/tensorflow/tf-keras-datasets/mnist.npz\n",
            "11490434/11490434 [==============================] - 0s 0us/step\n"
          ]
        }
      ],
      "source": [
        "(x_train, y_train), (x_test,y_test)=mnist.load_data()"
      ]
    },
    {
      "cell_type": "code",
      "execution_count": null,
      "metadata": {
        "id": "jLzvWLENQZ-R"
      },
      "outputs": [],
      "source": [
        "x_train = x_train.reshape(60000,28,28,1)\n",
        "x_test = x_test.reshape(10000,28,28,1)\n",
        "x_train= x_train.astype('float32')\n",
        "x_test = x_test.astype('float32')"
      ]
    },
    {
      "cell_type": "code",
      "execution_count": null,
      "metadata": {
        "id": "JyqHtSuIRKsa"
      },
      "outputs": [],
      "source": [
        "#Normalizar\n",
        "x_train /= 255\n",
        "x_test /= 255"
      ]
    },
    {
      "cell_type": "code",
      "execution_count": null,
      "metadata": {
        "colab": {
          "base_uri": "https://localhost:8080/"
        },
        "id": "Gv5CSHyQRTGh",
        "outputId": "67588884-27f9-4478-c7e8-b1f7b7e8d85b"
      },
      "outputs": [
        {
          "output_type": "stream",
          "name": "stdout",
          "text": [
            "60000 train samples\n",
            "10000 test samples\n"
          ]
        }
      ],
      "source": [
        "print(x_train.shape[0], 'train samples')\n",
        "print(x_test.shape[0], 'test samples')"
      ]
    },
    {
      "cell_type": "code",
      "execution_count": null,
      "metadata": {
        "id": "w2nnuRavRkYp"
      },
      "outputs": [],
      "source": [
        "#convert class vectors to binary class matrices\n",
        "y_train = keras.utils.to_categorical(y_train, num_classes)\n",
        "y_test = keras.utils.to_categorical(y_test, num_classes)"
      ]
    },
    {
      "cell_type": "code",
      "execution_count": null,
      "metadata": {
        "id": "T-rGPKfZ2Bxq"
      },
      "outputs": [],
      "source": [
        "## Data Augmentation with an ImageGenerator\n",
        "datagen = ImageDataGenerator(\n",
        "    width_shift_range=0.1,\n",
        "    height_shift_range=0.1,\n",
        "    horizontal_flip=False)"
      ]
    },
    {
      "cell_type": "code",
      "execution_count": null,
      "metadata": {
        "id": "ivh_YFDJTVMp"
      },
      "outputs": [],
      "source": [
        "#model = Sequential()\n",
        "#model.add(Dense(512,activation = 'relu',input_shape =(784,)))\n",
        "#model.add(Dense(512,activation = 'relu'))\n",
        "#model.add(Dense(512,activation = 'relu'))\n",
        "#model.add(Dense(num_classes,activation = 'softmax'))\n"
      ]
    },
    {
      "cell_type": "code",
      "execution_count": null,
      "metadata": {
        "id": "ibRA00GRgFy5"
      },
      "outputs": [],
      "source": [
        "#model = Sequential()\n",
        "#model.add(Dense(1024,activation = 'relu',input_shape =(784,)))\n",
        "#model.add(Dense(512,activation = 'relu'))\n",
        "#model.add(Dense(512,activation = 'relu'))\n",
        "#model.add(Dense(128,activation = 'relu'))\n",
        "#model.add(Dense(num_classes,activation = 'softmax'))"
      ]
    },
    {
      "cell_type": "code",
      "execution_count": null,
      "metadata": {
        "id": "8PC27FU1RfLe"
      },
      "outputs": [],
      "source": [
        "## NN with BN\n",
        "model = Sequential()\n",
        "model.add(Reshape(target_shape=(784,), input_shape=(28,28,1)))\n",
        "model.add(GN(0.1))\n",
        "\n",
        "\n",
        "model.add(Dense(1024))\n",
        "model.add(BN())\n",
        "model.add(GN(0.1))\n",
        "model.add(Activation('relu'))\n",
        "\n",
        "model.add(Dense(1024))\n",
        "model.add(BN())\n",
        "model.add(GN(0.1))\n",
        "model.add(Activation('relu'))\n",
        "\n",
        "\n",
        "model.add(Dense(1024))\n",
        "model.add(BN())\n",
        "model.add(GN(0.1))\n",
        "model.add(Activation('relu'))\n",
        "\n",
        "\n",
        "model.add(Dense(num_classes, activation='softmax'))"
      ]
    },
    {
      "cell_type": "code",
      "execution_count": null,
      "metadata": {
        "id": "zt9u86ZqANMm"
      },
      "outputs": [],
      "source": [
        "#model = Sequential()\n",
        "#model.add(Reshape(target_shape=(784,), input_shape=(28,28,1)))\n",
        "#model.add(GN(0.3))\n",
        "\n",
        "#model.add(Dense(512))\n",
        "#model.add(BN())\n",
        "#model.add(GN(0.3))\n",
        "#model.add(Activation('relu'))\n",
        "\n",
        "#model.add(Dense(512))\n",
        "#model.add(BN())\n",
        "#model.add(GN(0.3))\n",
        "#model.add(Activation('relu'))\n",
        "\n",
        "#model.add(Dense(512))\n",
        "#model.add(BN())\n",
        "#model.add(GN(0.3))\n",
        "#model.add(Activation('relu'))\n",
        "\n",
        "#model.add(Dense(num_classes, activation='softmax'))\n"
      ]
    },
    {
      "cell_type": "code",
      "execution_count": null,
      "metadata": {
        "colab": {
          "base_uri": "https://localhost:8080/"
        },
        "id": "0j3zfuvkV5rx",
        "outputId": "6bcb64d7-bd45-4067-c7b5-4f0e4fb9926d"
      },
      "outputs": [
        {
          "output_type": "stream",
          "name": "stdout",
          "text": [
            "Model: \"sequential\"\n",
            "_________________________________________________________________\n",
            " Layer (type)                Output Shape              Param #   \n",
            "=================================================================\n",
            " reshape (Reshape)           (None, 784)               0         \n",
            "                                                                 \n",
            " gaussian_noise (GaussianNoi  (None, 784)              0         \n",
            " se)                                                             \n",
            "                                                                 \n",
            " dense (Dense)               (None, 1024)              803840    \n",
            "                                                                 \n",
            " batch_normalization (BatchN  (None, 1024)             4096      \n",
            " ormalization)                                                   \n",
            "                                                                 \n",
            " gaussian_noise_1 (GaussianN  (None, 1024)             0         \n",
            " oise)                                                           \n",
            "                                                                 \n",
            " activation (Activation)     (None, 1024)              0         \n",
            "                                                                 \n",
            " dense_1 (Dense)             (None, 1024)              1049600   \n",
            "                                                                 \n",
            " batch_normalization_1 (Batc  (None, 1024)             4096      \n",
            " hNormalization)                                                 \n",
            "                                                                 \n",
            " gaussian_noise_2 (GaussianN  (None, 1024)             0         \n",
            " oise)                                                           \n",
            "                                                                 \n",
            " activation_1 (Activation)   (None, 1024)              0         \n",
            "                                                                 \n",
            " dense_2 (Dense)             (None, 1024)              1049600   \n",
            "                                                                 \n",
            " batch_normalization_2 (Batc  (None, 1024)             4096      \n",
            " hNormalization)                                                 \n",
            "                                                                 \n",
            " gaussian_noise_3 (GaussianN  (None, 1024)             0         \n",
            " oise)                                                           \n",
            "                                                                 \n",
            " activation_2 (Activation)   (None, 1024)              0         \n",
            "                                                                 \n",
            " dense_3 (Dense)             (None, 10)                10250     \n",
            "                                                                 \n",
            "=================================================================\n",
            "Total params: 2,925,578\n",
            "Trainable params: 2,919,434\n",
            "Non-trainable params: 6,144\n",
            "_________________________________________________________________\n"
          ]
        }
      ],
      "source": [
        "model.summary()"
      ]
    },
    {
      "cell_type": "code",
      "execution_count": null,
      "metadata": {
        "id": "P-0wSygSV82F"
      },
      "outputs": [],
      "source": [
        "#sgd = SGD(lr=0.01,decay=1e-6,momentum=0.9)\n",
        "\n",
        "sgd = SGD(learning_rate=0.1, decay=0.0, momentum=0.5)"
      ]
    },
    {
      "cell_type": "code",
      "execution_count": null,
      "metadata": {
        "id": "cg4_eXFHmf6N"
      },
      "outputs": [],
      "source": [
        "## define a learning rate scheduler\n",
        "def scheduler(epoch):\n",
        "    if epoch < 25:\n",
        "        return .1\n",
        "    elif epoch < 50:\n",
        "        return 0.01\n",
        "    else:\n",
        "        return 0.001\n",
        "\n",
        "set_lr = LRS(scheduler)\n",
        "###"
      ]
    },
    {
      "cell_type": "code",
      "execution_count": null,
      "metadata": {
        "id": "FRpLfmk7WIbZ"
      },
      "outputs": [],
      "source": [
        "model.compile(loss='categorical_crossentropy',optimizer = sgd,metrics =['accuracy'])"
      ]
    },
    {
      "cell_type": "code",
      "execution_count": null,
      "metadata": {
        "colab": {
          "base_uri": "https://localhost:8080/"
        },
        "id": "_yelohHs2QUc",
        "outputId": "cb13cfaa-8ea6-4cf2-f070-d822eda7028d"
      },
      "outputs": [
        {
          "output_type": "stream",
          "name": "stdout",
          "text": [
            "Epoch 1/200\n",
            "937/937 [==============================] - 81s 83ms/step - loss: 0.3494 - accuracy: 0.8937 - val_loss: 0.1576 - val_accuracy: 0.9520 - lr: 0.1000\n",
            "Epoch 2/200\n",
            "937/937 [==============================] - 73s 78ms/step - loss: 0.1869 - accuracy: 0.9433 - val_loss: 0.0935 - val_accuracy: 0.9698 - lr: 0.1000\n",
            "Epoch 3/200\n",
            "937/937 [==============================] - 72s 76ms/step - loss: 0.1483 - accuracy: 0.9541 - val_loss: 0.0850 - val_accuracy: 0.9733 - lr: 0.1000\n",
            "Epoch 4/200\n",
            "937/937 [==============================] - 72s 77ms/step - loss: 0.1256 - accuracy: 0.9613 - val_loss: 0.0651 - val_accuracy: 0.9794 - lr: 0.1000\n",
            "Epoch 5/200\n",
            "937/937 [==============================] - 71s 76ms/step - loss: 0.1145 - accuracy: 0.9640 - val_loss: 0.0654 - val_accuracy: 0.9800 - lr: 0.1000\n",
            "Epoch 6/200\n",
            "937/937 [==============================] - 71s 76ms/step - loss: 0.1032 - accuracy: 0.9669 - val_loss: 0.0729 - val_accuracy: 0.9786 - lr: 0.1000\n",
            "Epoch 7/200\n",
            "937/937 [==============================] - 76s 81ms/step - loss: 0.0974 - accuracy: 0.9700 - val_loss: 0.0528 - val_accuracy: 0.9843 - lr: 0.1000\n",
            "Epoch 8/200\n",
            "937/937 [==============================] - 72s 77ms/step - loss: 0.0916 - accuracy: 0.9722 - val_loss: 0.0490 - val_accuracy: 0.9837 - lr: 0.1000\n",
            "Epoch 9/200\n",
            "937/937 [==============================] - 72s 77ms/step - loss: 0.0858 - accuracy: 0.9726 - val_loss: 0.0505 - val_accuracy: 0.9838 - lr: 0.1000\n",
            "Epoch 10/200\n",
            "937/937 [==============================] - 72s 77ms/step - loss: 0.0815 - accuracy: 0.9747 - val_loss: 0.0401 - val_accuracy: 0.9865 - lr: 0.1000\n",
            "Epoch 11/200\n",
            "937/937 [==============================] - 70s 75ms/step - loss: 0.0753 - accuracy: 0.9752 - val_loss: 0.0416 - val_accuracy: 0.9873 - lr: 0.1000\n",
            "Epoch 12/200\n",
            "937/937 [==============================] - 77s 82ms/step - loss: 0.0695 - accuracy: 0.9779 - val_loss: 0.0427 - val_accuracy: 0.9856 - lr: 0.1000\n",
            "Epoch 13/200\n",
            "937/937 [==============================] - 72s 77ms/step - loss: 0.0695 - accuracy: 0.9782 - val_loss: 0.0377 - val_accuracy: 0.9877 - lr: 0.1000\n",
            "Epoch 14/200\n",
            "937/937 [==============================] - 72s 76ms/step - loss: 0.0666 - accuracy: 0.9788 - val_loss: 0.0325 - val_accuracy: 0.9890 - lr: 0.1000\n",
            "Epoch 15/200\n",
            "937/937 [==============================] - 72s 76ms/step - loss: 0.0664 - accuracy: 0.9790 - val_loss: 0.0436 - val_accuracy: 0.9869 - lr: 0.1000\n",
            "Epoch 16/200\n",
            "937/937 [==============================] - 76s 81ms/step - loss: 0.0614 - accuracy: 0.9811 - val_loss: 0.0357 - val_accuracy: 0.9878 - lr: 0.1000\n",
            "Epoch 17/200\n",
            "937/937 [==============================] - 72s 77ms/step - loss: 0.0609 - accuracy: 0.9803 - val_loss: 0.0393 - val_accuracy: 0.9877 - lr: 0.1000\n",
            "Epoch 18/200\n",
            "937/937 [==============================] - 71s 76ms/step - loss: 0.0611 - accuracy: 0.9813 - val_loss: 0.0415 - val_accuracy: 0.9879 - lr: 0.1000\n",
            "Epoch 19/200\n",
            "937/937 [==============================] - 73s 78ms/step - loss: 0.0563 - accuracy: 0.9820 - val_loss: 0.0435 - val_accuracy: 0.9850 - lr: 0.1000\n",
            "Epoch 20/200\n",
            "937/937 [==============================] - 75s 80ms/step - loss: 0.0548 - accuracy: 0.9825 - val_loss: 0.0340 - val_accuracy: 0.9879 - lr: 0.1000\n",
            "Epoch 21/200\n",
            "937/937 [==============================] - 74s 78ms/step - loss: 0.0535 - accuracy: 0.9834 - val_loss: 0.0335 - val_accuracy: 0.9882 - lr: 0.1000\n",
            "Epoch 22/200\n",
            "937/937 [==============================] - 75s 80ms/step - loss: 0.0534 - accuracy: 0.9830 - val_loss: 0.0378 - val_accuracy: 0.9874 - lr: 0.1000\n",
            "Epoch 23/200\n",
            "937/937 [==============================] - 74s 78ms/step - loss: 0.0472 - accuracy: 0.9847 - val_loss: 0.0335 - val_accuracy: 0.9884 - lr: 0.1000\n",
            "Epoch 24/200\n",
            "937/937 [==============================] - 77s 82ms/step - loss: 0.0490 - accuracy: 0.9841 - val_loss: 0.0417 - val_accuracy: 0.9873 - lr: 0.1000\n",
            "Epoch 25/200\n",
            "937/937 [==============================] - 74s 79ms/step - loss: 0.0485 - accuracy: 0.9844 - val_loss: 0.0325 - val_accuracy: 0.9891 - lr: 0.1000\n",
            "Epoch 26/200\n",
            "937/937 [==============================] - 73s 78ms/step - loss: 0.0408 - accuracy: 0.9868 - val_loss: 0.0273 - val_accuracy: 0.9908 - lr: 0.0100\n",
            "Epoch 27/200\n",
            "937/937 [==============================] - 73s 77ms/step - loss: 0.0364 - accuracy: 0.9884 - val_loss: 0.0260 - val_accuracy: 0.9918 - lr: 0.0100\n",
            "Epoch 28/200\n",
            "937/937 [==============================] - 75s 80ms/step - loss: 0.0324 - accuracy: 0.9893 - val_loss: 0.0255 - val_accuracy: 0.9912 - lr: 0.0100\n",
            "Epoch 29/200\n",
            "937/937 [==============================] - 73s 78ms/step - loss: 0.0320 - accuracy: 0.9896 - val_loss: 0.0243 - val_accuracy: 0.9919 - lr: 0.0100\n",
            "Epoch 30/200\n",
            "937/937 [==============================] - 73s 78ms/step - loss: 0.0308 - accuracy: 0.9899 - val_loss: 0.0245 - val_accuracy: 0.9925 - lr: 0.0100\n",
            "Epoch 31/200\n",
            "937/937 [==============================] - 74s 79ms/step - loss: 0.0294 - accuracy: 0.9905 - val_loss: 0.0248 - val_accuracy: 0.9921 - lr: 0.0100\n",
            "Epoch 32/200\n",
            "937/937 [==============================] - 73s 78ms/step - loss: 0.0290 - accuracy: 0.9903 - val_loss: 0.0246 - val_accuracy: 0.9924 - lr: 0.0100\n",
            "Epoch 33/200\n",
            "937/937 [==============================] - 74s 79ms/step - loss: 0.0284 - accuracy: 0.9910 - val_loss: 0.0239 - val_accuracy: 0.9926 - lr: 0.0100\n",
            "Epoch 34/200\n",
            "937/937 [==============================] - 72s 77ms/step - loss: 0.0298 - accuracy: 0.9907 - val_loss: 0.0241 - val_accuracy: 0.9919 - lr: 0.0100\n",
            "Epoch 35/200\n",
            "937/937 [==============================] - 74s 79ms/step - loss: 0.0296 - accuracy: 0.9906 - val_loss: 0.0240 - val_accuracy: 0.9922 - lr: 0.0100\n",
            "Epoch 36/200\n",
            "937/937 [==============================] - 72s 77ms/step - loss: 0.0286 - accuracy: 0.9908 - val_loss: 0.0233 - val_accuracy: 0.9925 - lr: 0.0100\n",
            "Epoch 37/200\n",
            "937/937 [==============================] - 75s 80ms/step - loss: 0.0269 - accuracy: 0.9916 - val_loss: 0.0230 - val_accuracy: 0.9924 - lr: 0.0100\n",
            "Epoch 38/200\n",
            "937/937 [==============================] - 73s 78ms/step - loss: 0.0279 - accuracy: 0.9912 - val_loss: 0.0242 - val_accuracy: 0.9920 - lr: 0.0100\n",
            "Epoch 39/200\n",
            "937/937 [==============================] - 76s 81ms/step - loss: 0.0279 - accuracy: 0.9908 - val_loss: 0.0239 - val_accuracy: 0.9922 - lr: 0.0100\n",
            "Epoch 40/200\n",
            "937/937 [==============================] - 73s 78ms/step - loss: 0.0270 - accuracy: 0.9914 - val_loss: 0.0235 - val_accuracy: 0.9926 - lr: 0.0100\n",
            "Epoch 41/200\n",
            "937/937 [==============================] - 73s 78ms/step - loss: 0.0259 - accuracy: 0.9919 - val_loss: 0.0236 - val_accuracy: 0.9921 - lr: 0.0100\n",
            "Epoch 42/200\n",
            "937/937 [==============================] - 74s 79ms/step - loss: 0.0263 - accuracy: 0.9916 - val_loss: 0.0239 - val_accuracy: 0.9922 - lr: 0.0100\n",
            "Epoch 43/200\n",
            "937/937 [==============================] - 76s 81ms/step - loss: 0.0262 - accuracy: 0.9917 - val_loss: 0.0226 - val_accuracy: 0.9923 - lr: 0.0100\n",
            "Epoch 44/200\n",
            "937/937 [==============================] - 73s 77ms/step - loss: 0.0260 - accuracy: 0.9917 - val_loss: 0.0231 - val_accuracy: 0.9920 - lr: 0.0100\n",
            "Epoch 45/200\n",
            "937/937 [==============================] - 74s 79ms/step - loss: 0.0255 - accuracy: 0.9924 - val_loss: 0.0228 - val_accuracy: 0.9928 - lr: 0.0100\n",
            "Epoch 46/200\n",
            "937/937 [==============================] - 75s 80ms/step - loss: 0.0259 - accuracy: 0.9915 - val_loss: 0.0227 - val_accuracy: 0.9929 - lr: 0.0100\n",
            "Epoch 47/200\n",
            "937/937 [==============================] - 75s 79ms/step - loss: 0.0264 - accuracy: 0.9919 - val_loss: 0.0230 - val_accuracy: 0.9926 - lr: 0.0100\n",
            "Epoch 48/200\n",
            "937/937 [==============================] - 74s 79ms/step - loss: 0.0250 - accuracy: 0.9918 - val_loss: 0.0227 - val_accuracy: 0.9925 - lr: 0.0100\n",
            "Epoch 49/200\n",
            "937/937 [==============================] - 73s 77ms/step - loss: 0.0257 - accuracy: 0.9917 - val_loss: 0.0235 - val_accuracy: 0.9924 - lr: 0.0100\n",
            "Epoch 50/200\n",
            "937/937 [==============================] - 76s 81ms/step - loss: 0.0254 - accuracy: 0.9918 - val_loss: 0.0232 - val_accuracy: 0.9924 - lr: 0.0100\n",
            "Epoch 51/200\n",
            "937/937 [==============================] - 71s 76ms/step - loss: 0.0261 - accuracy: 0.9919 - val_loss: 0.0228 - val_accuracy: 0.9926 - lr: 0.0010\n",
            "Epoch 52/200\n",
            "937/937 [==============================] - 73s 78ms/step - loss: 0.0251 - accuracy: 0.9919 - val_loss: 0.0228 - val_accuracy: 0.9928 - lr: 0.0010\n",
            "Epoch 53/200\n",
            "937/937 [==============================] - 74s 79ms/step - loss: 0.0232 - accuracy: 0.9927 - val_loss: 0.0227 - val_accuracy: 0.9928 - lr: 0.0010\n",
            "Epoch 54/200\n",
            "937/937 [==============================] - 74s 79ms/step - loss: 0.0245 - accuracy: 0.9923 - val_loss: 0.0228 - val_accuracy: 0.9927 - lr: 0.0010\n",
            "Epoch 55/200\n",
            "937/937 [==============================] - 75s 80ms/step - loss: 0.0254 - accuracy: 0.9917 - val_loss: 0.0225 - val_accuracy: 0.9928 - lr: 0.0010\n",
            "Epoch 56/200\n",
            "937/937 [==============================] - 73s 78ms/step - loss: 0.0243 - accuracy: 0.9923 - val_loss: 0.0229 - val_accuracy: 0.9928 - lr: 0.0010\n",
            "Epoch 57/200\n",
            "937/937 [==============================] - 75s 81ms/step - loss: 0.0236 - accuracy: 0.9924 - val_loss: 0.0223 - val_accuracy: 0.9927 - lr: 0.0010\n",
            "Epoch 58/200\n",
            "937/937 [==============================] - 74s 79ms/step - loss: 0.0232 - accuracy: 0.9927 - val_loss: 0.0224 - val_accuracy: 0.9928 - lr: 0.0010\n",
            "Epoch 59/200\n",
            "937/937 [==============================] - 74s 79ms/step - loss: 0.0245 - accuracy: 0.9923 - val_loss: 0.0227 - val_accuracy: 0.9928 - lr: 0.0010\n",
            "Epoch 60/200\n",
            "937/937 [==============================] - 74s 79ms/step - loss: 0.0250 - accuracy: 0.9922 - val_loss: 0.0225 - val_accuracy: 0.9925 - lr: 0.0010\n",
            "Epoch 61/200\n",
            "937/937 [==============================] - 76s 81ms/step - loss: 0.0239 - accuracy: 0.9923 - val_loss: 0.0226 - val_accuracy: 0.9927 - lr: 0.0010\n",
            "Epoch 62/200\n",
            "937/937 [==============================] - 73s 78ms/step - loss: 0.0239 - accuracy: 0.9925 - val_loss: 0.0224 - val_accuracy: 0.9926 - lr: 0.0010\n",
            "Epoch 63/200\n",
            "937/937 [==============================] - 75s 80ms/step - loss: 0.0252 - accuracy: 0.9923 - val_loss: 0.0227 - val_accuracy: 0.9928 - lr: 0.0010\n",
            "Epoch 64/200\n",
            "937/937 [==============================] - 72s 77ms/step - loss: 0.0242 - accuracy: 0.9921 - val_loss: 0.0222 - val_accuracy: 0.9926 - lr: 0.0010\n",
            "Epoch 65/200\n",
            "937/937 [==============================] - 77s 82ms/step - loss: 0.0246 - accuracy: 0.9923 - val_loss: 0.0226 - val_accuracy: 0.9929 - lr: 0.0010\n",
            "Epoch 66/200\n",
            "937/937 [==============================] - 74s 79ms/step - loss: 0.0240 - accuracy: 0.9928 - val_loss: 0.0224 - val_accuracy: 0.9930 - lr: 0.0010\n",
            "Epoch 67/200\n",
            "937/937 [==============================] - 74s 79ms/step - loss: 0.0237 - accuracy: 0.9924 - val_loss: 0.0223 - val_accuracy: 0.9928 - lr: 0.0010\n",
            "Epoch 68/200\n",
            "937/937 [==============================] - 72s 77ms/step - loss: 0.0234 - accuracy: 0.9925 - val_loss: 0.0223 - val_accuracy: 0.9929 - lr: 0.0010\n",
            "Epoch 69/200\n",
            "937/937 [==============================] - 77s 82ms/step - loss: 0.0243 - accuracy: 0.9923 - val_loss: 0.0223 - val_accuracy: 0.9928 - lr: 0.0010\n",
            "Epoch 70/200\n",
            "937/937 [==============================] - 72s 77ms/step - loss: 0.0227 - accuracy: 0.9928 - val_loss: 0.0222 - val_accuracy: 0.9927 - lr: 0.0010\n",
            "Epoch 71/200\n",
            "937/937 [==============================] - 74s 79ms/step - loss: 0.0234 - accuracy: 0.9929 - val_loss: 0.0223 - val_accuracy: 0.9928 - lr: 0.0010\n",
            "Epoch 72/200\n",
            "937/937 [==============================] - 73s 78ms/step - loss: 0.0230 - accuracy: 0.9931 - val_loss: 0.0222 - val_accuracy: 0.9927 - lr: 0.0010\n",
            "Epoch 73/200\n",
            "937/937 [==============================] - 75s 80ms/step - loss: 0.0237 - accuracy: 0.9927 - val_loss: 0.0221 - val_accuracy: 0.9925 - lr: 0.0010\n",
            "Epoch 74/200\n",
            "937/937 [==============================] - 75s 80ms/step - loss: 0.0242 - accuracy: 0.9924 - val_loss: 0.0224 - val_accuracy: 0.9927 - lr: 0.0010\n",
            "Epoch 75/200\n",
            "937/937 [==============================] - 72s 77ms/step - loss: 0.0240 - accuracy: 0.9923 - val_loss: 0.0220 - val_accuracy: 0.9926 - lr: 0.0010\n",
            "Epoch 76/200\n",
            "937/937 [==============================] - 77s 82ms/step - loss: 0.0227 - accuracy: 0.9928 - val_loss: 0.0224 - val_accuracy: 0.9927 - lr: 0.0010\n",
            "Epoch 77/200\n",
            "937/937 [==============================] - 73s 77ms/step - loss: 0.0237 - accuracy: 0.9921 - val_loss: 0.0221 - val_accuracy: 0.9929 - lr: 0.0010\n",
            "Epoch 78/200\n",
            "937/937 [==============================] - 73s 78ms/step - loss: 0.0241 - accuracy: 0.9924 - val_loss: 0.0222 - val_accuracy: 0.9927 - lr: 0.0010\n",
            "Epoch 79/200\n",
            "937/937 [==============================] - 74s 79ms/step - loss: 0.0247 - accuracy: 0.9922 - val_loss: 0.0222 - val_accuracy: 0.9927 - lr: 0.0010\n",
            "Epoch 80/200\n",
            "937/937 [==============================] - 77s 82ms/step - loss: 0.0243 - accuracy: 0.9923 - val_loss: 0.0223 - val_accuracy: 0.9927 - lr: 0.0010\n",
            "Epoch 81/200\n",
            "937/937 [==============================] - 75s 80ms/step - loss: 0.0225 - accuracy: 0.9932 - val_loss: 0.0223 - val_accuracy: 0.9929 - lr: 0.0010\n",
            "Epoch 82/200\n",
            "937/937 [==============================] - 74s 79ms/step - loss: 0.0237 - accuracy: 0.9926 - val_loss: 0.0222 - val_accuracy: 0.9928 - lr: 0.0010\n",
            "Epoch 83/200\n",
            "937/937 [==============================] - 77s 82ms/step - loss: 0.0237 - accuracy: 0.9925 - val_loss: 0.0224 - val_accuracy: 0.9926 - lr: 0.0010\n",
            "Epoch 84/200\n",
            "937/937 [==============================] - 75s 80ms/step - loss: 0.0227 - accuracy: 0.9928 - val_loss: 0.0220 - val_accuracy: 0.9928 - lr: 0.0010\n",
            "Epoch 85/200\n",
            "937/937 [==============================] - 73s 78ms/step - loss: 0.0224 - accuracy: 0.9927 - val_loss: 0.0220 - val_accuracy: 0.9928 - lr: 0.0010\n",
            "Epoch 86/200\n",
            "937/937 [==============================] - 78s 83ms/step - loss: 0.0229 - accuracy: 0.9928 - val_loss: 0.0220 - val_accuracy: 0.9928 - lr: 0.0010\n",
            "Epoch 87/200\n",
            "937/937 [==============================] - 74s 78ms/step - loss: 0.0241 - accuracy: 0.9925 - val_loss: 0.0220 - val_accuracy: 0.9930 - lr: 0.0010\n",
            "Epoch 88/200\n",
            "937/937 [==============================] - 73s 78ms/step - loss: 0.0236 - accuracy: 0.9922 - val_loss: 0.0221 - val_accuracy: 0.9929 - lr: 0.0010\n",
            "Epoch 89/200\n",
            "937/937 [==============================] - 77s 83ms/step - loss: 0.0223 - accuracy: 0.9929 - val_loss: 0.0221 - val_accuracy: 0.9930 - lr: 0.0010\n",
            "Epoch 90/200\n",
            "937/937 [==============================] - 73s 77ms/step - loss: 0.0229 - accuracy: 0.9926 - val_loss: 0.0219 - val_accuracy: 0.9929 - lr: 0.0010\n",
            "Epoch 91/200\n",
            "937/937 [==============================] - 73s 78ms/step - loss: 0.0223 - accuracy: 0.9935 - val_loss: 0.0220 - val_accuracy: 0.9930 - lr: 0.0010\n",
            "Epoch 92/200\n",
            "937/937 [==============================] - 76s 81ms/step - loss: 0.0218 - accuracy: 0.9934 - val_loss: 0.0218 - val_accuracy: 0.9930 - lr: 0.0010\n",
            "Epoch 93/200\n",
            "937/937 [==============================] - 73s 78ms/step - loss: 0.0225 - accuracy: 0.9929 - val_loss: 0.0219 - val_accuracy: 0.9930 - lr: 0.0010\n",
            "Epoch 94/200\n",
            "937/937 [==============================] - 76s 81ms/step - loss: 0.0236 - accuracy: 0.9930 - val_loss: 0.0220 - val_accuracy: 0.9931 - lr: 0.0010\n",
            "Epoch 95/200\n",
            "937/937 [==============================] - 72s 77ms/step - loss: 0.0229 - accuracy: 0.9926 - val_loss: 0.0219 - val_accuracy: 0.9931 - lr: 0.0010\n",
            "Epoch 96/200\n",
            "937/937 [==============================] - 74s 79ms/step - loss: 0.0229 - accuracy: 0.9921 - val_loss: 0.0220 - val_accuracy: 0.9929 - lr: 0.0010\n",
            "Epoch 97/200\n",
            "937/937 [==============================] - 76s 82ms/step - loss: 0.0230 - accuracy: 0.9924 - val_loss: 0.0217 - val_accuracy: 0.9930 - lr: 0.0010\n",
            "Epoch 98/200\n",
            "937/937 [==============================] - 72s 76ms/step - loss: 0.0230 - accuracy: 0.9924 - val_loss: 0.0222 - val_accuracy: 0.9929 - lr: 0.0010\n",
            "Epoch 99/200\n",
            "937/937 [==============================] - 75s 80ms/step - loss: 0.0219 - accuracy: 0.9932 - val_loss: 0.0220 - val_accuracy: 0.9929 - lr: 0.0010\n",
            "Epoch 100/200\n",
            "937/937 [==============================] - 76s 81ms/step - loss: 0.0228 - accuracy: 0.9928 - val_loss: 0.0220 - val_accuracy: 0.9926 - lr: 0.0010\n",
            "Epoch 101/200\n",
            "937/937 [==============================] - 74s 78ms/step - loss: 0.0231 - accuracy: 0.9926 - val_loss: 0.0221 - val_accuracy: 0.9930 - lr: 0.0010\n",
            "Epoch 102/200\n",
            "937/937 [==============================] - 75s 80ms/step - loss: 0.0223 - accuracy: 0.9931 - val_loss: 0.0220 - val_accuracy: 0.9928 - lr: 0.0010\n",
            "Epoch 103/200\n",
            "937/937 [==============================] - 75s 80ms/step - loss: 0.0227 - accuracy: 0.9926 - val_loss: 0.0219 - val_accuracy: 0.9929 - lr: 0.0010\n",
            "Epoch 104/200\n",
            "937/937 [==============================] - 74s 79ms/step - loss: 0.0231 - accuracy: 0.9929 - val_loss: 0.0217 - val_accuracy: 0.9930 - lr: 0.0010\n",
            "Epoch 105/200\n",
            "937/937 [==============================] - 72s 77ms/step - loss: 0.0225 - accuracy: 0.9931 - val_loss: 0.0218 - val_accuracy: 0.9928 - lr: 0.0010\n",
            "Epoch 106/200\n",
            "937/937 [==============================] - 74s 79ms/step - loss: 0.0232 - accuracy: 0.9925 - val_loss: 0.0220 - val_accuracy: 0.9926 - lr: 0.0010\n",
            "Epoch 107/200\n",
            "937/937 [==============================] - 73s 78ms/step - loss: 0.0235 - accuracy: 0.9926 - val_loss: 0.0219 - val_accuracy: 0.9928 - lr: 0.0010\n",
            "Epoch 108/200\n",
            "937/937 [==============================] - 72s 77ms/step - loss: 0.0217 - accuracy: 0.9933 - val_loss: 0.0217 - val_accuracy: 0.9928 - lr: 0.0010\n",
            "Epoch 109/200\n",
            "937/937 [==============================] - 77s 82ms/step - loss: 0.0225 - accuracy: 0.9928 - val_loss: 0.0219 - val_accuracy: 0.9928 - lr: 0.0010\n",
            "Epoch 110/200\n",
            "937/937 [==============================] - 72s 77ms/step - loss: 0.0223 - accuracy: 0.9931 - val_loss: 0.0218 - val_accuracy: 0.9930 - lr: 0.0010\n",
            "Epoch 111/200\n",
            "937/937 [==============================] - 72s 77ms/step - loss: 0.0233 - accuracy: 0.9930 - val_loss: 0.0220 - val_accuracy: 0.9927 - lr: 0.0010\n",
            "Epoch 112/200\n",
            "937/937 [==============================] - 73s 78ms/step - loss: 0.0216 - accuracy: 0.9932 - val_loss: 0.0219 - val_accuracy: 0.9930 - lr: 0.0010\n",
            "Epoch 113/200\n",
            "937/937 [==============================] - 76s 81ms/step - loss: 0.0232 - accuracy: 0.9929 - val_loss: 0.0217 - val_accuracy: 0.9927 - lr: 0.0010\n",
            "Epoch 114/200\n",
            "937/937 [==============================] - 72s 77ms/step - loss: 0.0246 - accuracy: 0.9920 - val_loss: 0.0217 - val_accuracy: 0.9930 - lr: 0.0010\n",
            "Epoch 115/200\n",
            "937/937 [==============================] - 75s 80ms/step - loss: 0.0225 - accuracy: 0.9930 - val_loss: 0.0218 - val_accuracy: 0.9928 - lr: 0.0010\n",
            "Epoch 116/200\n",
            "937/937 [==============================] - 75s 80ms/step - loss: 0.0229 - accuracy: 0.9925 - val_loss: 0.0220 - val_accuracy: 0.9928 - lr: 0.0010\n",
            "Epoch 117/200\n",
            "937/937 [==============================] - 73s 78ms/step - loss: 0.0228 - accuracy: 0.9925 - val_loss: 0.0220 - val_accuracy: 0.9927 - lr: 0.0010\n",
            "Epoch 118/200\n",
            "937/937 [==============================] - 76s 81ms/step - loss: 0.0218 - accuracy: 0.9929 - val_loss: 0.0219 - val_accuracy: 0.9928 - lr: 0.0010\n",
            "Epoch 119/200\n",
            "937/937 [==============================] - 75s 79ms/step - loss: 0.0235 - accuracy: 0.9926 - val_loss: 0.0220 - val_accuracy: 0.9926 - lr: 0.0010\n",
            "Epoch 120/200\n",
            "937/937 [==============================] - 75s 80ms/step - loss: 0.0232 - accuracy: 0.9931 - val_loss: 0.0219 - val_accuracy: 0.9929 - lr: 0.0010\n",
            "Epoch 121/200\n",
            "937/937 [==============================] - 73s 78ms/step - loss: 0.0223 - accuracy: 0.9929 - val_loss: 0.0220 - val_accuracy: 0.9927 - lr: 0.0010\n",
            "Epoch 122/200\n",
            "937/937 [==============================] - 77s 82ms/step - loss: 0.0223 - accuracy: 0.9927 - val_loss: 0.0221 - val_accuracy: 0.9926 - lr: 0.0010\n",
            "Epoch 123/200\n",
            "937/937 [==============================] - 75s 80ms/step - loss: 0.0218 - accuracy: 0.9929 - val_loss: 0.0220 - val_accuracy: 0.9929 - lr: 0.0010\n",
            "Epoch 124/200\n",
            "937/937 [==============================] - 74s 79ms/step - loss: 0.0235 - accuracy: 0.9928 - val_loss: 0.0219 - val_accuracy: 0.9928 - lr: 0.0010\n",
            "Epoch 125/200\n",
            "937/937 [==============================] - 73s 78ms/step - loss: 0.0214 - accuracy: 0.9931 - val_loss: 0.0216 - val_accuracy: 0.9931 - lr: 0.0010\n",
            "Epoch 126/200\n",
            "937/937 [==============================] - 76s 81ms/step - loss: 0.0230 - accuracy: 0.9928 - val_loss: 0.0220 - val_accuracy: 0.9928 - lr: 0.0010\n",
            "Epoch 127/200\n",
            "937/937 [==============================] - 75s 80ms/step - loss: 0.0229 - accuracy: 0.9929 - val_loss: 0.0220 - val_accuracy: 0.9928 - lr: 0.0010\n",
            "Epoch 128/200\n",
            "937/937 [==============================] - 74s 79ms/step - loss: 0.0230 - accuracy: 0.9929 - val_loss: 0.0215 - val_accuracy: 0.9930 - lr: 0.0010\n",
            "Epoch 129/200\n",
            "937/937 [==============================] - 74s 79ms/step - loss: 0.0217 - accuracy: 0.9930 - val_loss: 0.0218 - val_accuracy: 0.9929 - lr: 0.0010\n",
            "Epoch 130/200\n",
            "937/937 [==============================] - 73s 78ms/step - loss: 0.0223 - accuracy: 0.9928 - val_loss: 0.0217 - val_accuracy: 0.9930 - lr: 0.0010\n",
            "Epoch 131/200\n",
            "937/937 [==============================] - 79s 84ms/step - loss: 0.0226 - accuracy: 0.9925 - val_loss: 0.0217 - val_accuracy: 0.9930 - lr: 0.0010\n",
            "Epoch 132/200\n",
            "937/937 [==============================] - 74s 78ms/step - loss: 0.0225 - accuracy: 0.9929 - val_loss: 0.0216 - val_accuracy: 0.9929 - lr: 0.0010\n",
            "Epoch 133/200\n",
            "937/937 [==============================] - 74s 79ms/step - loss: 0.0229 - accuracy: 0.9928 - val_loss: 0.0216 - val_accuracy: 0.9930 - lr: 0.0010\n",
            "Epoch 134/200\n",
            "937/937 [==============================] - 75s 80ms/step - loss: 0.0236 - accuracy: 0.9928 - val_loss: 0.0219 - val_accuracy: 0.9930 - lr: 0.0010\n",
            "Epoch 135/200\n",
            "937/937 [==============================] - 77s 82ms/step - loss: 0.0218 - accuracy: 0.9927 - val_loss: 0.0214 - val_accuracy: 0.9930 - lr: 0.0010\n",
            "Epoch 136/200\n",
            "937/937 [==============================] - 73s 78ms/step - loss: 0.0225 - accuracy: 0.9931 - val_loss: 0.0217 - val_accuracy: 0.9930 - lr: 0.0010\n",
            "Epoch 137/200\n",
            "937/937 [==============================] - 77s 82ms/step - loss: 0.0234 - accuracy: 0.9923 - val_loss: 0.0219 - val_accuracy: 0.9930 - lr: 0.0010\n",
            "Epoch 138/200\n",
            "937/937 [==============================] - 73s 78ms/step - loss: 0.0227 - accuracy: 0.9927 - val_loss: 0.0217 - val_accuracy: 0.9930 - lr: 0.0010\n",
            "Epoch 139/200\n",
            "937/937 [==============================] - 76s 81ms/step - loss: 0.0234 - accuracy: 0.9926 - val_loss: 0.0216 - val_accuracy: 0.9929 - lr: 0.0010\n",
            "Epoch 140/200\n",
            "937/937 [==============================] - 77s 82ms/step - loss: 0.0211 - accuracy: 0.9934 - val_loss: 0.0217 - val_accuracy: 0.9929 - lr: 0.0010\n",
            "Epoch 141/200\n",
            "937/937 [==============================] - 76s 81ms/step - loss: 0.0218 - accuracy: 0.9933 - val_loss: 0.0215 - val_accuracy: 0.9926 - lr: 0.0010\n",
            "Epoch 142/200\n",
            "937/937 [==============================] - 74s 79ms/step - loss: 0.0208 - accuracy: 0.9935 - val_loss: 0.0215 - val_accuracy: 0.9929 - lr: 0.0010\n",
            "Epoch 143/200\n",
            "937/937 [==============================] - 78s 84ms/step - loss: 0.0228 - accuracy: 0.9932 - val_loss: 0.0214 - val_accuracy: 0.9931 - lr: 0.0010\n",
            "Epoch 144/200\n",
            "937/937 [==============================] - 74s 79ms/step - loss: 0.0218 - accuracy: 0.9930 - val_loss: 0.0216 - val_accuracy: 0.9930 - lr: 0.0010\n",
            "Epoch 145/200\n",
            "937/937 [==============================] - 75s 80ms/step - loss: 0.0234 - accuracy: 0.9928 - val_loss: 0.0217 - val_accuracy: 0.9929 - lr: 0.0010\n",
            "Epoch 146/200\n",
            "937/937 [==============================] - 76s 81ms/step - loss: 0.0221 - accuracy: 0.9930 - val_loss: 0.0216 - val_accuracy: 0.9928 - lr: 0.0010\n",
            "Epoch 147/200\n",
            "937/937 [==============================] - 77s 82ms/step - loss: 0.0222 - accuracy: 0.9928 - val_loss: 0.0214 - val_accuracy: 0.9930 - lr: 0.0010\n",
            "Epoch 148/200\n",
            "937/937 [==============================] - 76s 81ms/step - loss: 0.0217 - accuracy: 0.9930 - val_loss: 0.0216 - val_accuracy: 0.9929 - lr: 0.0010\n",
            "Epoch 149/200\n",
            "937/937 [==============================] - 76s 81ms/step - loss: 0.0210 - accuracy: 0.9934 - val_loss: 0.0212 - val_accuracy: 0.9930 - lr: 0.0010\n",
            "Epoch 150/200\n",
            "937/937 [==============================] - 74s 79ms/step - loss: 0.0212 - accuracy: 0.9930 - val_loss: 0.0214 - val_accuracy: 0.9931 - lr: 0.0010\n",
            "Epoch 151/200\n",
            "937/937 [==============================] - 76s 82ms/step - loss: 0.0215 - accuracy: 0.9933 - val_loss: 0.0215 - val_accuracy: 0.9931 - lr: 0.0010\n",
            "Epoch 152/200\n",
            "937/937 [==============================] - 77s 82ms/step - loss: 0.0230 - accuracy: 0.9924 - val_loss: 0.0215 - val_accuracy: 0.9929 - lr: 0.0010\n",
            "Epoch 153/200\n",
            "937/937 [==============================] - 76s 81ms/step - loss: 0.0217 - accuracy: 0.9932 - val_loss: 0.0216 - val_accuracy: 0.9929 - lr: 0.0010\n",
            "Epoch 154/200\n",
            "937/937 [==============================] - 74s 79ms/step - loss: 0.0212 - accuracy: 0.9931 - val_loss: 0.0215 - val_accuracy: 0.9932 - lr: 0.0010\n",
            "Epoch 155/200\n",
            "937/937 [==============================] - 77s 83ms/step - loss: 0.0229 - accuracy: 0.9927 - val_loss: 0.0215 - val_accuracy: 0.9930 - lr: 0.0010\n",
            "Epoch 156/200\n",
            "937/937 [==============================] - 74s 79ms/step - loss: 0.0215 - accuracy: 0.9934 - val_loss: 0.0213 - val_accuracy: 0.9931 - lr: 0.0010\n",
            "Epoch 157/200\n",
            "937/937 [==============================] - 73s 78ms/step - loss: 0.0215 - accuracy: 0.9932 - val_loss: 0.0214 - val_accuracy: 0.9930 - lr: 0.0010\n",
            "Epoch 158/200\n",
            "937/937 [==============================] - 76s 81ms/step - loss: 0.0218 - accuracy: 0.9931 - val_loss: 0.0214 - val_accuracy: 0.9931 - lr: 0.0010\n",
            "Epoch 159/200\n",
            "937/937 [==============================] - 75s 81ms/step - loss: 0.0222 - accuracy: 0.9926 - val_loss: 0.0214 - val_accuracy: 0.9931 - lr: 0.0010\n",
            "Epoch 160/200\n",
            "937/937 [==============================] - 74s 79ms/step - loss: 0.0224 - accuracy: 0.9934 - val_loss: 0.0220 - val_accuracy: 0.9931 - lr: 0.0010\n",
            "Epoch 161/200\n",
            "937/937 [==============================] - 75s 80ms/step - loss: 0.0223 - accuracy: 0.9930 - val_loss: 0.0215 - val_accuracy: 0.9929 - lr: 0.0010\n",
            "Epoch 162/200\n",
            "937/937 [==============================] - 74s 78ms/step - loss: 0.0210 - accuracy: 0.9931 - val_loss: 0.0218 - val_accuracy: 0.9929 - lr: 0.0010\n",
            "Epoch 163/200\n",
            "937/937 [==============================] - 75s 80ms/step - loss: 0.0209 - accuracy: 0.9933 - val_loss: 0.0217 - val_accuracy: 0.9930 - lr: 0.0010\n",
            "Epoch 164/200\n",
            "937/937 [==============================] - 75s 80ms/step - loss: 0.0221 - accuracy: 0.9931 - val_loss: 0.0216 - val_accuracy: 0.9931 - lr: 0.0010\n",
            "Epoch 165/200\n",
            "937/937 [==============================] - 74s 79ms/step - loss: 0.0213 - accuracy: 0.9933 - val_loss: 0.0216 - val_accuracy: 0.9930 - lr: 0.0010\n",
            "Epoch 166/200\n",
            "937/937 [==============================] - 73s 78ms/step - loss: 0.0230 - accuracy: 0.9923 - val_loss: 0.0215 - val_accuracy: 0.9931 - lr: 0.0010\n",
            "Epoch 167/200\n",
            "937/937 [==============================] - 74s 79ms/step - loss: 0.0228 - accuracy: 0.9925 - val_loss: 0.0214 - val_accuracy: 0.9930 - lr: 0.0010\n",
            "Epoch 168/200\n",
            "937/937 [==============================] - 76s 81ms/step - loss: 0.0214 - accuracy: 0.9932 - val_loss: 0.0216 - val_accuracy: 0.9930 - lr: 0.0010\n",
            "Epoch 169/200\n",
            "937/937 [==============================] - 73s 78ms/step - loss: 0.0224 - accuracy: 0.9930 - val_loss: 0.0216 - val_accuracy: 0.9932 - lr: 0.0010\n",
            "Epoch 170/200\n",
            "937/937 [==============================] - 76s 81ms/step - loss: 0.0220 - accuracy: 0.9931 - val_loss: 0.0215 - val_accuracy: 0.9933 - lr: 0.0010\n",
            "Epoch 171/200\n",
            "937/937 [==============================] - 75s 80ms/step - loss: 0.0227 - accuracy: 0.9930 - val_loss: 0.0215 - val_accuracy: 0.9930 - lr: 0.0010\n",
            "Epoch 172/200\n",
            "937/937 [==============================] - 77s 82ms/step - loss: 0.0217 - accuracy: 0.9929 - val_loss: 0.0215 - val_accuracy: 0.9931 - lr: 0.0010\n",
            "Epoch 173/200\n",
            "937/937 [==============================] - 76s 81ms/step - loss: 0.0203 - accuracy: 0.9932 - val_loss: 0.0216 - val_accuracy: 0.9932 - lr: 0.0010\n",
            "Epoch 174/200\n",
            "937/937 [==============================] - 75s 80ms/step - loss: 0.0220 - accuracy: 0.9930 - val_loss: 0.0214 - val_accuracy: 0.9931 - lr: 0.0010\n",
            "Epoch 175/200\n",
            "937/937 [==============================] - 73s 78ms/step - loss: 0.0208 - accuracy: 0.9932 - val_loss: 0.0211 - val_accuracy: 0.9932 - lr: 0.0010\n",
            "Epoch 176/200\n",
            "937/937 [==============================] - 74s 79ms/step - loss: 0.0222 - accuracy: 0.9930 - val_loss: 0.0212 - val_accuracy: 0.9930 - lr: 0.0010\n",
            "Epoch 177/200\n",
            "937/937 [==============================] - 79s 84ms/step - loss: 0.0226 - accuracy: 0.9928 - val_loss: 0.0212 - val_accuracy: 0.9929 - lr: 0.0010\n",
            "Epoch 178/200\n",
            "937/937 [==============================] - 75s 80ms/step - loss: 0.0224 - accuracy: 0.9930 - val_loss: 0.0213 - val_accuracy: 0.9929 - lr: 0.0010\n",
            "Epoch 179/200\n",
            "937/937 [==============================] - 73s 78ms/step - loss: 0.0222 - accuracy: 0.9929 - val_loss: 0.0213 - val_accuracy: 0.9929 - lr: 0.0010\n",
            "Epoch 180/200\n",
            "937/937 [==============================] - 74s 79ms/step - loss: 0.0211 - accuracy: 0.9932 - val_loss: 0.0214 - val_accuracy: 0.9932 - lr: 0.0010\n",
            "Epoch 181/200\n",
            "937/937 [==============================] - 74s 79ms/step - loss: 0.0222 - accuracy: 0.9931 - val_loss: 0.0212 - val_accuracy: 0.9929 - lr: 0.0010\n",
            "Epoch 182/200\n",
            "937/937 [==============================] - 77s 82ms/step - loss: 0.0223 - accuracy: 0.9931 - val_loss: 0.0211 - val_accuracy: 0.9931 - lr: 0.0010\n",
            "Epoch 183/200\n",
            "937/937 [==============================] - 75s 80ms/step - loss: 0.0215 - accuracy: 0.9930 - val_loss: 0.0214 - val_accuracy: 0.9930 - lr: 0.0010\n",
            "Epoch 184/200\n",
            "937/937 [==============================] - 73s 78ms/step - loss: 0.0217 - accuracy: 0.9931 - val_loss: 0.0214 - val_accuracy: 0.9931 - lr: 0.0010\n",
            "Epoch 185/200\n",
            "937/937 [==============================] - 75s 80ms/step - loss: 0.0214 - accuracy: 0.9936 - val_loss: 0.0214 - val_accuracy: 0.9931 - lr: 0.0010\n",
            "Epoch 186/200\n",
            "937/937 [==============================] - 74s 79ms/step - loss: 0.0223 - accuracy: 0.9926 - val_loss: 0.0214 - val_accuracy: 0.9929 - lr: 0.0010\n",
            "Epoch 187/200\n",
            "937/937 [==============================] - 77s 82ms/step - loss: 0.0217 - accuracy: 0.9931 - val_loss: 0.0213 - val_accuracy: 0.9930 - lr: 0.0010\n",
            "Epoch 188/200\n",
            "937/937 [==============================] - 75s 80ms/step - loss: 0.0215 - accuracy: 0.9931 - val_loss: 0.0213 - val_accuracy: 0.9933 - lr: 0.0010\n",
            "Epoch 189/200\n",
            "937/937 [==============================] - 74s 79ms/step - loss: 0.0215 - accuracy: 0.9931 - val_loss: 0.0211 - val_accuracy: 0.9930 - lr: 0.0010\n",
            "Epoch 190/200\n",
            "937/937 [==============================] - 74s 79ms/step - loss: 0.0216 - accuracy: 0.9931 - val_loss: 0.0215 - val_accuracy: 0.9929 - lr: 0.0010\n",
            "Epoch 191/200\n",
            "937/937 [==============================] - 72s 77ms/step - loss: 0.0222 - accuracy: 0.9930 - val_loss: 0.0213 - val_accuracy: 0.9930 - lr: 0.0010\n",
            "Epoch 192/200\n",
            "937/937 [==============================] - 74s 79ms/step - loss: 0.0217 - accuracy: 0.9933 - val_loss: 0.0214 - val_accuracy: 0.9931 - lr: 0.0010\n",
            "Epoch 193/200\n",
            "937/937 [==============================] - 77s 82ms/step - loss: 0.0227 - accuracy: 0.9931 - val_loss: 0.0211 - val_accuracy: 0.9930 - lr: 0.0010\n",
            "Epoch 194/200\n",
            "937/937 [==============================] - 75s 79ms/step - loss: 0.0216 - accuracy: 0.9929 - val_loss: 0.0214 - val_accuracy: 0.9929 - lr: 0.0010\n",
            "Epoch 195/200\n",
            "937/937 [==============================] - 73s 78ms/step - loss: 0.0212 - accuracy: 0.9932 - val_loss: 0.0214 - val_accuracy: 0.9929 - lr: 0.0010\n",
            "Epoch 196/200\n",
            "937/937 [==============================] - 74s 79ms/step - loss: 0.0209 - accuracy: 0.9934 - val_loss: 0.0214 - val_accuracy: 0.9930 - lr: 0.0010\n",
            "Epoch 197/200\n",
            "937/937 [==============================] - 76s 81ms/step - loss: 0.0215 - accuracy: 0.9933 - val_loss: 0.0210 - val_accuracy: 0.9929 - lr: 0.0010\n",
            "Epoch 198/200\n",
            "937/937 [==============================] - 77s 82ms/step - loss: 0.0213 - accuracy: 0.9934 - val_loss: 0.0213 - val_accuracy: 0.9932 - lr: 0.0010\n",
            "Epoch 199/200\n",
            "937/937 [==============================] - 75s 80ms/step - loss: 0.0222 - accuracy: 0.9931 - val_loss: 0.0212 - val_accuracy: 0.9929 - lr: 0.0010\n",
            "Epoch 200/200\n",
            "937/937 [==============================] - 74s 79ms/step - loss: 0.0212 - accuracy: 0.9935 - val_loss: 0.0212 - val_accuracy: 0.9931 - lr: 0.0010\n"
          ]
        }
      ],
      "source": [
        "history=model.fit(datagen.flow\n",
        "                  (x_train, y_train,batch_size=batch_size),\n",
        "                            steps_per_epoch=len(x_train) / batch_size, \n",
        "                            epochs=epochs,\n",
        "                            validation_data=(x_test, y_test),\n",
        "                            callbacks=[set_lr],\n",
        "                            verbose=1)"
      ]
    },
    {
      "cell_type": "code",
      "execution_count": null,
      "metadata": {
        "id": "NHpEMzcAYbn_"
      },
      "outputs": [],
      "source": [
        "#history = model.fit(x_train, y_train, batch_size = batch_size, epochs = epochs,verbose = 1,validation_data=(x_test,y_test),callbacks=[set_lr])"
      ]
    },
    {
      "cell_type": "code",
      "execution_count": null,
      "metadata": {
        "colab": {
          "base_uri": "https://localhost:8080/"
        },
        "id": "XxvaJS5NYwR_",
        "outputId": "eca547f8-b0ba-452a-ecf5-8073fa29f3e9"
      },
      "outputs": [
        {
          "output_type": "stream",
          "name": "stdout",
          "text": [
            "dict_keys(['loss', 'accuracy', 'val_loss', 'val_accuracy', 'lr'])\n"
          ]
        }
      ],
      "source": [
        "print(history.history.keys())\n"
      ]
    },
    {
      "cell_type": "code",
      "execution_count": null,
      "metadata": {
        "id": "OXVKPyvbA24q"
      },
      "outputs": [],
      "source": [
        "score = model.evaluate(x_test, y_test, verbose=0)\n"
      ]
    },
    {
      "cell_type": "code",
      "execution_count": null,
      "metadata": {
        "id": "-zKStPBxA9Kx",
        "colab": {
          "base_uri": "https://localhost:8080/"
        },
        "outputId": "7a76c925-d46a-4478-fdac-d69a8927c923"
      },
      "outputs": [
        {
          "output_type": "stream",
          "name": "stdout",
          "text": [
            "Test loss: 0.021211015060544014\n",
            "Test accuracy: 0.9930999875068665\n"
          ]
        }
      ],
      "source": [
        "print('Test loss:', score[0])\n",
        "print('Test accuracy:', score[1])"
      ]
    },
    {
      "cell_type": "code",
      "execution_count": null,
      "metadata": {
        "id": "pVcyvguOfoQI"
      },
      "outputs": [],
      "source": [
        "import matplotlib.pyplot as plt\n"
      ]
    },
    {
      "cell_type": "code",
      "execution_count": null,
      "metadata": {
        "id": "PnZRlO3efqyF",
        "colab": {
          "base_uri": "https://localhost:8080/",
          "height": 295
        },
        "outputId": "edcf061c-917a-4ec6-cb25-b2c77481f5a1"
      },
      "outputs": [
        {
          "output_type": "display_data",
          "data": {
            "text/plain": [
              "<Figure size 432x288 with 1 Axes>"
            ],
            "image/png": "[encoded data removed]"
          },
          "metadata": {
            "needs_background": "light"
          }
        }
      ],
      "source": [
        "plt.plot(history.history['accuracy'])\n",
        "plt.plot(history.history['val_accuracy'])\n",
        "plt.title('model accuracy')\n",
        "plt.ylabel('accuracy')\n",
        "plt.xlabel('epoch')\n",
        "plt.legend(['train', 'test'], loc='upper left')\n",
        "plt.show()"
      ]
    },
    {
      "cell_type": "code",
      "execution_count": null,
      "metadata": {
        "id": "QyzRjBXyfslC"
      },
      "outputs": [],
      "source": []
    }
  ],
  "metadata": {
    "colab": {
      "provenance": []
    },
    "kernelspec": {
      "display_name": "Python 3",
      "name": "python3"
    },
    "language_info": {
      "name": "python"
    }
  },
  "nbformat": 4,
  "nbformat_minor": 0
}