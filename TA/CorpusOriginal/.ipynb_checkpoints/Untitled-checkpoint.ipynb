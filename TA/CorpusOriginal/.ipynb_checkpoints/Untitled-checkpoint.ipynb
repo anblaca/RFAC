{
 "cells": [
  {
   "cell_type": "code",
   "execution_count": 1,
   "id": "30b50cea",
   "metadata": {},
   "outputs": [],
   "source": [
    "i = 0\n",
    "f = open('corpus.tok.es','w')\n",
    "s = open('corpus.Valtok.es','w')\n",
    "\n",
    "with open('corpus.tokk.es','r',encoding=\"utf8\") as fichero:\n",
    "    for linia in fichero.readlines():\n",
    "        if i < 45500:\n",
    "            f.write(linia)\n",
    "        else:\n",
    "            s.write(linia)\n",
    "        i+=1\n",
    "\n",
    "j = 0\n",
    "a = open('corpus.tok.en','w')\n",
    "b = open('corpus.Valtok.en','w')\n",
    "\n",
    "with open('corpus.tokk.en','r', encoding=\"utf8\") as fichero:\n",
    "    for linia in fichero.readlines():\n",
    "        if j < 45500:\n",
    "            a.write(linia)\n",
    "        else:\n",
    "            b.write(linia)\n",
    "        j+=1\n",
    "f.close()\n",
    "b.close()\n",
    "a.close()\n",
    "s.close()"
   ]
  },
  {
   "cell_type": "code",
   "execution_count": null,
   "id": "2a897ef3",
   "metadata": {},
   "outputs": [],
   "source": []
  }
 ],
 "metadata": {
  "kernelspec": {
   "display_name": "Python 3 (ipykernel)",
   "language": "python",
   "name": "python3"
  },
  "language_info": {
   "codemirror_mode": {
    "name": "ipython",
    "version": 3
   },
   "file_extension": ".py",
   "mimetype": "text/x-python",
   "name": "python",
   "nbconvert_exporter": "python",
   "pygments_lexer": "ipython3",
   "version": "3.9.13"
  }
 },
 "nbformat": 4,
 "nbformat_minor": 5
}
